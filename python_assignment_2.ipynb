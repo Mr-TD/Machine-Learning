{
  "nbformat": 4,
  "nbformat_minor": 0,
  "metadata": {
    "colab": {
      "name": "python assignment 2.ipynb",
      "provenance": []
    },
    "kernelspec": {
      "name": "python3",
      "display_name": "Python 3"
    }
  },
  "cells": [
    {
      "cell_type": "markdown",
      "metadata": {
        "id": "GI7N-psar4tk",
        "colab_type": "text"
      },
      "source": [
        "(1) Create the below pattern using nested for loop in Python"
      ]
    },
    {
      "cell_type": "code",
      "metadata": {
        "id": "3EgCPoV8r1zC",
        "colab_type": "code",
        "colab": {
          "base_uri": "https://localhost:8080/",
          "height": 191
        },
        "outputId": "66900632-0dfe-4376-a925-fdbd165ec183"
      },
      "source": [
        "for i in range(5):\n",
        "    for j in range(i):\n",
        "        print('*', end='')\n",
        "    print('')\n",
        "for i in range(5, 0, -1):\n",
        "    for j in range(i):\n",
        "        print('*', end='')\n",
        "    print('')"
      ],
      "execution_count": 1,
      "outputs": [
        {
          "output_type": "stream",
          "text": [
            "\n",
            "*\n",
            "**\n",
            "***\n",
            "****\n",
            "*****\n",
            "****\n",
            "***\n",
            "**\n",
            "*\n"
          ],
          "name": "stdout"
        }
      ]
    },
    {
      "cell_type": "markdown",
      "metadata": {
        "id": "vx9pQ81jsC4L",
        "colab_type": "text"
      },
      "source": [
        "(2) Write a Python program to reverse a word after accepting the input from the user.\n",
        "\n",
        "Sample Output:\n",
        "\n",
        "Input word: Ineuron\n",
        "\n",
        "Output: noruenI"
      ]
    },
    {
      "cell_type": "code",
      "metadata": {
        "id": "mJ9odlQasKyH",
        "colab_type": "code",
        "colab": {
          "base_uri": "https://localhost:8080/",
          "height": 35
        },
        "outputId": "0704b220-2b69-4f23-af31-a1b481de8edd"
      },
      "source": [
        "a = input()"
      ],
      "execution_count": 2,
      "outputs": [
        {
          "output_type": "stream",
          "text": [
            "Ineuron\n"
          ],
          "name": "stdout"
        }
      ]
    },
    {
      "cell_type": "code",
      "metadata": {
        "id": "XfOp-7YvsNW2",
        "colab_type": "code",
        "colab": {
          "base_uri": "https://localhost:8080/",
          "height": 35
        },
        "outputId": "6f35a9b4-3c45-4624-fe21-9a154afdebe5"
      },
      "source": [
        "print(a[::-1])"
      ],
      "execution_count": 3,
      "outputs": [
        {
          "output_type": "stream",
          "text": [
            "noruenI\n"
          ],
          "name": "stdout"
        }
      ]
    }
  ]
}