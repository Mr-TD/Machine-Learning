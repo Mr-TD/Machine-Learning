{
  "nbformat": 4,
  "nbformat_minor": 0,
  "metadata": {
    "colab": {
      "name": " python Assignment 4.ipynb",
      "provenance": []
    },
    "kernelspec": {
      "name": "python3",
      "display_name": "Python 3"
    }
  },
  "cells": [
    {
      "cell_type": "markdown",
      "metadata": {
        "id": "qjs2kFSXi_rZ",
        "colab_type": "text"
      },
      "source": [
        "# python Assignment 4"
      ]
    },
    {
      "cell_type": "markdown",
      "metadata": {
        "id": "l4XDJSM3i9FJ",
        "colab_type": "text"
      },
      "source": [
        "1.1 Write a Python Program(with class concepts) to find the area of the triangle using the below\n",
        "formula.\n",
        "\n",
        "area = (s*(s-a)*(s-b)*(s-c)) ** 0.5\n",
        "\n",
        "Function to take the length of the sides of triangle from user should be defined in the parent\n",
        "class and function to calculate the area should be defined in subclass."
      ]
    },
    {
      "cell_type": "code",
      "metadata": {
        "id": "IF01uWSsi8fs",
        "colab_type": "code",
        "colab": {}
      },
      "source": [
        "class Area:\n",
        "    def __init__(self, a, b, c):\n",
        "        self.a = a\n",
        "        self.b = b\n",
        "        self.c = c"
      ],
      "execution_count": 0,
      "outputs": []
    },
    {
      "cell_type": "code",
      "metadata": {
        "id": "jGAAHCuEjbe_",
        "colab_type": "code",
        "colab": {}
      },
      "source": [
        "class S(Area):\n",
        "    def triangle(self):\n",
        "        s = (self.a + self.b + self.c) / 2\n",
        "        return (s*(s-self.a)*(s-self.b)*(s-self.c)) ** 0.5"
      ],
      "execution_count": 0,
      "outputs": []
    },
    {
      "cell_type": "code",
      "metadata": {
        "id": "MhKSl8ESjgSc",
        "colab_type": "code",
        "colab": {
          "base_uri": "https://localhost:8080/",
          "height": 69
        },
        "outputId": "6c76bfd2-f220-44cf-a677-b1491be88827"
      },
      "source": [
        "tri = S(\n",
        "        int(input(\"Enter value of a:-\")),\n",
        "        int(input(\"Enter Value of b:-\")),\n",
        "        int(input(\"Enter Value of c:-\"))\n",
        "        )\n",
        "#print(tri.a)\n",
        "#print(tri.b)\n",
        "#print(tri.c)"
      ],
      "execution_count": 39,
      "outputs": [
        {
          "output_type": "stream",
          "text": [
            "Enter value of a:-2\n",
            "Enter Value of b:-3\n",
            "Enter Value of c:-4\n"
          ],
          "name": "stdout"
        }
      ]
    },
    {
      "cell_type": "code",
      "metadata": {
        "id": "AB-FzB6zj8DA",
        "colab_type": "code",
        "colab": {
          "base_uri": "https://localhost:8080/",
          "height": 35
        },
        "outputId": "72cc9f64-c0f2-45bc-a706-032650990ad3"
      },
      "source": [
        "d = tri.triangle()\n",
        "print(\"area of the triangle is:-\", d)"
      ],
      "execution_count": 40,
      "outputs": [
        {
          "output_type": "stream",
          "text": [
            "area of the triangle is:- 2.9047375096555625\n"
          ],
          "name": "stdout"
        }
      ]
    },
    {
      "cell_type": "markdown",
      "metadata": {
        "id": "dgGXcJvdkhjC",
        "colab_type": "text"
      },
      "source": [
        "(1.2) Write a function filter_long_words() that takes a list of words and an integer n and returns\n",
        "the list of words that are longer than n."
      ]
    },
    {
      "cell_type": "code",
      "metadata": {
        "id": "-DNzEA1foOeq",
        "colab_type": "code",
        "colab": {}
      },
      "source": [
        "def filter_long_words(lst, n):\n",
        "    word_lengths = []\n",
        "    list = lst.split(\",\")\n",
        "    for i in list:\n",
        "        if len(i) > n:\n",
        "            word_lengths.append(i)\n",
        "    result = print(word_lengths)\n",
        "    return result"
      ],
      "execution_count": 0,
      "outputs": []
    },
    {
      "cell_type": "code",
      "metadata": {
        "id": "_WCT7-u9oVfo",
        "colab_type": "code",
        "colab": {
          "base_uri": "https://localhost:8080/",
          "height": 35
        },
        "outputId": "b506fe85-bda8-49ac-b888-835a250007ea"
      },
      "source": [
        "a = input(\"Enter your word list with comma sapreted:-\")\n",
        "#b = a.split(',')\n",
        "#print(b)"
      ],
      "execution_count": 42,
      "outputs": [
        {
          "output_type": "stream",
          "text": [
            "Enter your word list with comma sapreted:-aqwe,asd,rtyu,fgh,tyuji,mhy,kj,k,mbhg,vgt,aser\n"
          ],
          "name": "stdout"
        }
      ]
    },
    {
      "cell_type": "code",
      "metadata": {
        "id": "VmEigJL_okv9",
        "colab_type": "code",
        "colab": {
          "base_uri": "https://localhost:8080/",
          "height": 52
        },
        "outputId": "3673a111-6206-41b1-d668-720e63887bad"
      },
      "source": [
        "n = int(input(\"list of words that are longer than:-\"))\n",
        "filter_long_words(a, n)"
      ],
      "execution_count": 43,
      "outputs": [
        {
          "output_type": "stream",
          "text": [
            "list of words that are longer than:-3\n",
            "['aqwe', 'rtyu', 'tyuji', 'mbhg', 'aser']\n"
          ],
          "name": "stdout"
        }
      ]
    },
    {
      "cell_type": "markdown",
      "metadata": {
        "id": "v8m_8WmMrSay",
        "colab_type": "text"
      },
      "source": [
        "(2.1) Write a Python program using function concept that maps list of words into a list of integers\n",
        "representing the lengths of the corresponding words.\n",
        "\n",
        "**Hint**: If a list [ ab,cde,erty] is passed on to the python function output should come as [2,3,4]\n",
        "Here 2,3 and 4 are the lengths of the words in the list."
      ]
    },
    {
      "cell_type": "code",
      "metadata": {
        "id": "6iMJ9HZTrYZG",
        "colab_type": "code",
        "colab": {}
      },
      "source": [
        "def length(lst):\n",
        "    c= []\n",
        "    for i in lst:\n",
        "        n = len(i)\n",
        "        #print(n)\n",
        "        c.append(n)\n",
        "    print(c)"
      ],
      "execution_count": 0,
      "outputs": []
    },
    {
      "cell_type": "code",
      "metadata": {
        "id": "QTmlMvFjvkDP",
        "colab_type": "code",
        "colab": {
          "base_uri": "https://localhost:8080/",
          "height": 52
        },
        "outputId": "d1f59d9d-c63e-4b8e-ddc7-8642ec7922a4"
      },
      "source": [
        "a = input(\"Enter your word list with comma sapreted:-\")\n",
        "b = a.split(',')\n",
        "#print(b)\n",
        "length(b)"
      ],
      "execution_count": 45,
      "outputs": [
        {
          "output_type": "stream",
          "text": [
            "Enter your word list with comma sapreted:-a,ab,abc,abcd\n",
            "[1, 2, 3, 4]\n"
          ],
          "name": "stdout"
        }
      ]
    },
    {
      "cell_type": "markdown",
      "metadata": {
        "id": "3_P1dlxGv4xE",
        "colab_type": "text"
      },
      "source": [
        "(2.2) Write a Python function which takes a character (i.e. a string of length 1) and returns True if\n",
        "it is a vowel, False otherwise."
      ]
    },
    {
      "cell_type": "code",
      "metadata": {
        "id": "p2749bDMyV83",
        "colab_type": "code",
        "colab": {}
      },
      "source": [
        "def vowel(char):\n",
        "    for i in char:\n",
        "        a = ['a', 'e', 'i', 'o', 'u']\n",
        "        if i in a:\n",
        "            print(\"True\")\n",
        "        else:\n",
        "            print(\"False\")"
      ],
      "execution_count": 0,
      "outputs": []
    },
    {
      "cell_type": "code",
      "metadata": {
        "id": "JQUVVRcwyYz0",
        "colab_type": "code",
        "colab": {
          "base_uri": "https://localhost:8080/",
          "height": 52
        },
        "outputId": "0006f3a2-0240-4a1e-83ff-3584d68a4e56"
      },
      "source": [
        "b = input(\"Enter Character to check vovel or not (enter only one character):-\")\n",
        "vowel(b)"
      ],
      "execution_count": 49,
      "outputs": [
        {
          "output_type": "stream",
          "text": [
            "Enter Character to check vovel or not (enter only one character):-d\n",
            "False\n"
          ],
          "name": "stdout"
        }
      ]
    }
  ]
}