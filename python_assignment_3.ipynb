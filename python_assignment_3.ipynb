{
  "nbformat": 4,
  "nbformat_minor": 0,
  "metadata": {
    "kernelspec": {
      "display_name": "Python 3",
      "language": "python",
      "name": "python3"
    },
    "language_info": {
      "codemirror_mode": {
        "name": "ipython",
        "version": 3
      },
      "file_extension": ".py",
      "mimetype": "text/x-python",
      "name": "python",
      "nbconvert_exporter": "python",
      "pygments_lexer": "ipython3",
      "version": "3.7.4"
    },
    "colab": {
      "name": " python assignment 3.ipynb",
      "provenance": []
    }
  },
  "cells": [
    {
      "cell_type": "markdown",
      "metadata": {
        "id": "pHSzcCO1p31X",
        "colab_type": "text"
      },
      "source": [
        "## Problem Statement"
      ]
    },
    {
      "cell_type": "markdown",
      "metadata": {
        "id": "q5j2JMdbp31Y",
        "colab_type": "text"
      },
      "source": [
        "(1.1) Write a Python Program to implement your own myreduce() function which works exactly like\n",
        "Python's built-in function reduce()\n"
      ]
    },
    {
      "cell_type": "code",
      "metadata": {
        "id": "mZKOV-tnp31Z",
        "colab_type": "code",
        "colab": {}
      },
      "source": [
        "def myreduce(function_name, sequence):\n",
        "  result = sequence[0] \n",
        "  for i in sequence[1:]:\n",
        "   result = function_name(result, i)\n",
        "  return result"
      ],
      "execution_count": 0,
      "outputs": []
    },
    {
      "cell_type": "code",
      "metadata": {
        "id": "coyU4u5bq6jx",
        "colab_type": "code",
        "colab": {
          "base_uri": "https://localhost:8080/",
          "height": 35
        },
        "outputId": "031121a9-889e-4099-b362-85daf49db097"
      },
      "source": [
        "lst =[47,11,42,13]\n",
        "myreduce(lambda x,y: x+y,lst)"
      ],
      "execution_count": 9,
      "outputs": [
        {
          "output_type": "execute_result",
          "data": {
            "text/plain": [
              "113"
            ]
          },
          "metadata": {
            "tags": []
          },
          "execution_count": 9
        }
      ]
    },
    {
      "cell_type": "markdown",
      "metadata": {
        "id": "lDWWFcS8p31c",
        "colab_type": "text"
      },
      "source": [
        "(1.2) Write a Python program to implement your own myfilter() function which works exactly like\n",
        "Python's built-in function filter()"
      ]
    },
    {
      "cell_type": "code",
      "metadata": {
        "id": "8iT0FJptp31c",
        "colab_type": "code",
        "colab": {}
      },
      "source": [
        "def myfilter(function_name, sequence):\n",
        " result = []\n",
        " for i in sequence:\n",
        "  if function_name(i):\n",
        "   result.append(i)\n",
        " return result"
      ],
      "execution_count": 0,
      "outputs": []
    },
    {
      "cell_type": "code",
      "metadata": {
        "id": "rxYiLLmks1H_",
        "colab_type": "code",
        "colab": {
          "base_uri": "https://localhost:8080/",
          "height": 35
        },
        "outputId": "e9e7f190-9107-4566-d55b-4687b6030eb7"
      },
      "source": [
        "lst = range(20)\n",
        "myfilter(lambda x:x%2 == 0, lst)"
      ],
      "execution_count": 11,
      "outputs": [
        {
          "output_type": "execute_result",
          "data": {
            "text/plain": [
              "[0, 2, 4, 6, 8, 10, 12, 14, 16, 18]"
            ]
          },
          "metadata": {
            "tags": []
          },
          "execution_count": 11
        }
      ]
    },
    {
      "cell_type": "markdown",
      "metadata": {
        "id": "3wdSRdHFp31e",
        "colab_type": "text"
      },
      "source": [
        "(2) Implement List comprehensions to produce the following lists.\n",
        "   Write List comprehensions to produce the following List\n",
        "   \n",
        "    ['x', 'xx', 'xxx', 'xxxx', 'y', 'yy', 'yyy', 'yyyy', 'z', 'zz', 'zzz', 'zzzz']\n",
        "\n",
        "    ['x', 'y', 'z', 'xx', 'yy', 'zz', 'xx', 'yy', 'zz', 'xxxx', 'yyyy', 'zzzz']\n",
        "    \n",
        "    [[2], [3], [4], [3], [4], [5], [4], [5], [6]]\n",
        "    \n",
        "    [[2, 3, 4, 5], [3, 4, 5, 6], [4, 5, 6, 7], [5, 6, 7, 8]]\n",
        "\n",
        "    [(1, 1), (2, 1), (3, 1), (1, 2), (2, 2), (3, 2), (1, 3), (2, 3), (3, 3)]"
      ]
    },
    {
      "cell_type": "code",
      "metadata": {
        "id": "r0aV4Zttu3yw",
        "colab_type": "code",
        "colab": {
          "base_uri": "https://localhost:8080/",
          "height": 35
        },
        "outputId": "81e60d9e-01fb-44e8-fdc0-09b7dbca6df1"
      },
      "source": [
        "# ['x', 'xx', 'xxx', 'xxxx', 'y', 'yy', 'yyy', 'yyyy', 'z', 'zz', 'zzz', 'zzzz']\n",
        "lst = ['x','y','z']\n",
        "a = []\n",
        "for i in lst:\n",
        "    for j in range(1,5):\n",
        "        result = i*j\n",
        "        a.append(result)\n",
        "print(a)"
      ],
      "execution_count": 12,
      "outputs": [
        {
          "output_type": "stream",
          "text": [
            "['x', 'xx', 'xxx', 'xxxx', 'y', 'yy', 'yyy', 'yyyy', 'z', 'zz', 'zzz', 'zzzz']\n"
          ],
          "name": "stdout"
        }
      ]
    },
    {
      "cell_type": "code",
      "metadata": {
        "id": "pIZ9UhH6vmWo",
        "colab_type": "code",
        "colab": {
          "base_uri": "https://localhost:8080/",
          "height": 35
        },
        "outputId": "0cf8b055-7376-4f02-f8a8-1074075de8e1"
      },
      "source": [
        "# ['x', 'y', 'z', 'xx', 'yy', 'zz', 'xxx', 'yyy', 'zzz', 'xxxx', 'yyyy', 'zzzz']\n",
        "lst = ['x','y','z']\n",
        "a = []\n",
        "for j in range(1,5):\n",
        "    for i in lst:\n",
        "        result = i*j\n",
        "        a.append(result)\n",
        "print(a)"
      ],
      "execution_count": 13,
      "outputs": [
        {
          "output_type": "stream",
          "text": [
            "['x', 'y', 'z', 'xx', 'yy', 'zz', 'xxx', 'yyy', 'zzz', 'xxxx', 'yyyy', 'zzzz']\n"
          ],
          "name": "stdout"
        }
      ]
    },
    {
      "cell_type": "code",
      "metadata": {
        "id": "RaQG4rGCyX6Y",
        "colab_type": "code",
        "colab": {
          "base_uri": "https://localhost:8080/",
          "height": 35
        },
        "outputId": "844eb347-64df-4acd-e93c-62cec859c405"
      },
      "source": [
        "# [[2], [3], [4], [3], [4], [5], [4], [5], [6]]\n",
        "lst = [2,3,4]\n",
        "result = [[i+j] for i in lst for j in range(0,3)]\n",
        "print(str(result))"
      ],
      "execution_count": 18,
      "outputs": [
        {
          "output_type": "stream",
          "text": [
            "[[2], [3], [4], [3], [4], [5], [4], [5], [6]]\n"
          ],
          "name": "stdout"
        }
      ]
    },
    {
      "cell_type": "code",
      "metadata": {
        "id": "Yamua_6K2s67",
        "colab_type": "code",
        "colab": {
          "base_uri": "https://localhost:8080/",
          "height": 35
        },
        "outputId": "eba87b38-1e86-4e83-b3d7-2d982acfe97e"
      },
      "source": [
        "# [[2, 3, 4, 5], [3, 4, 5, 6], [4, 5, 6, 7], [5, 6, 7, 8]]\n",
        "lst = [2,3,4,5]\n",
        "result = [[i+j for i in lst] for j in range(0,4)]\n",
        "print(str(result))"
      ],
      "execution_count": 19,
      "outputs": [
        {
          "output_type": "stream",
          "text": [
            "[[2, 3, 4, 5], [3, 4, 5, 6], [4, 5, 6, 7], [5, 6, 7, 8]]\n"
          ],
          "name": "stdout"
        }
      ]
    },
    {
      "cell_type": "code",
      "metadata": {
        "id": "fIzmig4529fJ",
        "colab_type": "code",
        "colab": {
          "base_uri": "https://localhost:8080/",
          "height": 35
        },
        "outputId": "d00669fd-e04d-4935-c032-ec6c28792796"
      },
      "source": [
        "# [(1, 1), (2, 1), (3, 1), (1, 2), (2, 2), (3, 2), (1, 3), (2, 3), (3, 3)]\n",
        "lst=[1,2,3]\n",
        "result = [ (b,a) for a in lst for b in lst]\n",
        "print(str(result))"
      ],
      "execution_count": 20,
      "outputs": [
        {
          "output_type": "stream",
          "text": [
            "[(1, 1), (2, 1), (3, 1), (1, 2), (2, 2), (3, 2), (1, 3), (2, 3), (3, 3)]\n"
          ],
          "name": "stdout"
        }
      ]
    }
  ]
}