{
  "nbformat": 4,
  "nbformat_minor": 0,
  "metadata": {
    "colab": {
      "name": "Assignment_exception_handling.ipynb",
      "provenance": []
    },
    "kernelspec": {
      "name": "python3",
      "display_name": "Python 3"
    }
  },
  "cells": [
    {
      "cell_type": "markdown",
      "metadata": {
        "id": "oz8ax93429rO",
        "colab_type": "text"
      },
      "source": [
        "(1) Write a function to compute 5/0 and use try/except to catch the exceptions"
      ]
    },
    {
      "cell_type": "code",
      "metadata": {
        "id": "IIxsv_uG25WF",
        "colab_type": "code",
        "outputId": "20491698-60e1-43cd-a3db-5e81da700b8b",
        "colab": {
          "base_uri": "https://localhost:8080/",
          "height": 35
        }
      },
      "source": [
        "try:\n",
        "    a = 5/0\n",
        "    print(a)\n",
        "except ZeroDivisionError:\n",
        "    print (\"division by zero! Error\")"
      ],
      "execution_count": 0,
      "outputs": [
        {
          "output_type": "stream",
          "text": [
            "division by zero! Error\n"
          ],
          "name": "stdout"
        }
      ]
    },
    {
      "cell_type": "markdown",
      "metadata": {
        "id": "NI7jWy-n3xfK",
        "colab_type": "text"
      },
      "source": [
        "(2) Implement a Python program to generate all sentences where subject is in\n",
        "[\"Americans\", \"Indians\"] and verb is in [\"Play\", \"watch\"] and the object is in\n",
        "[\"Baseball\",\"cricket\"]."
      ]
    },
    {
      "cell_type": "code",
      "metadata": {
        "id": "7Y3Wxw6b35Jc",
        "colab_type": "code",
        "colab": {}
      },
      "source": [
        "a = ['Americans', 'Indians']\n",
        "b = ['Play', 'watch']\n",
        "c = ['Baseball','cricket']"
      ],
      "execution_count": 0,
      "outputs": []
    },
    {
      "cell_type": "code",
      "metadata": {
        "id": "eZ_iGjCO5P5O",
        "colab_type": "code",
        "colab": {}
      },
      "source": [
        "sentence_list = [(subject+\" \"+ verb + \" \" + obj) \n",
        "for subject in a \n",
        "for verb in b \n",
        "for obj in c]"
      ],
      "execution_count": 0,
      "outputs": []
    },
    {
      "cell_type": "code",
      "metadata": {
        "id": "BlhWHqGY5S3t",
        "colab_type": "code",
        "outputId": "ace30ff2-019a-4357-93c4-268496132f17",
        "colab": {
          "base_uri": "https://localhost:8080/",
          "height": 156
        }
      },
      "source": [
        "for i in sentence_list:\n",
        " print(i)"
      ],
      "execution_count": 0,
      "outputs": [
        {
          "output_type": "stream",
          "text": [
            "Americans Play Baseball\n",
            "Americans Play cricket\n",
            "Americans watch Baseball\n",
            "Americans watch cricket\n",
            "Indians Play Baseball\n",
            "Indians Play cricket\n",
            "Indians watch Baseball\n",
            "Indians watch cricket\n"
          ],
          "name": "stdout"
        }
      ]
    }
  ]
}